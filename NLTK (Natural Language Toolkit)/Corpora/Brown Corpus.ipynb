{
 "cells": [
  {
   "cell_type": "code",
   "execution_count": 2,
   "metadata": {},
   "outputs": [
    {
     "name": "stderr",
     "output_type": "stream",
     "text": [
      "[nltk_data] Downloading package brown to\n",
      "[nltk_data]     C:\\Users\\sachi\\AppData\\Roaming\\nltk_data...\n",
      "[nltk_data]   Package brown is already up-to-date!\n"
     ]
    },
    {
     "name": "stdout",
     "output_type": "stream",
     "text": [
      "Categories in the Brown Corpus:\n",
      "['adventure', 'belles_lettres', 'editorial', 'fiction', 'government', 'hobbies', 'humor', 'learned', 'lore', 'mystery']\n",
      "\n",
      "Sample sentences from the 'news' category:\n",
      "Sentence 1: The Fulton County Grand Jury said Friday an investigation of Atlanta's recent primary election produced `` no evidence '' that any irregularities took place .\n",
      "Sentence 2: The jury further said in term-end presentments that the City Executive Committee , which had over-all charge of the election , `` deserves the praise and thanks of the City of Atlanta '' for the manner in which the election was conducted .\n",
      "Sentence 3: The September-October term jury had been charged by Fulton Superior Court Judge Durwood Pye to investigate reports of possible `` irregularities '' in the hard-fought primary which was won by Mayor-nominate Ivan Allen Jr. .\n",
      "Sentence 4: `` Only a relative handful of such reports was received '' , the jury said , `` considering the widespread interest in the election , the number of voters and the size of this city '' .\n",
      "Sentence 5: The jury said it did find that many of Georgia's registration and election laws `` are outmoded or inadequate and often ambiguous '' .\n"
     ]
    }
   ],
   "source": [
    "import nltk\n",
    "from nltk.corpus import brown\n",
    "\n",
    "# Download the Brown Corpus if you haven't already\n",
    "nltk.download('brown')\n",
    "\n",
    "# Load the Brown Corpus\n",
    "brown_corpus = brown\n",
    "\n",
    "# Get categories or genres in the Brown Corpus\n",
    "categories = brown_corpus.categories()\n",
    "\n",
    "# Print the first few categories\n",
    "print(\"Categories in the Brown Corpus:\")\n",
    "print(categories[:10])\n",
    "\n",
    "# Access text samples from a specific category\n",
    "category = 'news'  # Example category\n",
    "texts = brown_corpus.sents(categories=category)\n",
    "\n",
    "# Print the first few sentences from the selected category\n",
    "print(f\"\\nSample sentences from the '{category}' category:\")\n",
    "for i, sent in enumerate(texts[:5]):\n",
    "    print(f\"Sentence {i+1}: {' '.join(sent)}\")\n"
   ]
  }
 ],
 "metadata": {
  "kernelspec": {
   "display_name": "Python 3",
   "language": "python",
   "name": "python3"
  },
  "language_info": {
   "codemirror_mode": {
    "name": "ipython",
    "version": 3
   },
   "file_extension": ".py",
   "mimetype": "text/x-python",
   "name": "python",
   "nbconvert_exporter": "python",
   "pygments_lexer": "ipython3",
   "version": "3.12.2"
  }
 },
 "nbformat": 4,
 "nbformat_minor": 2
}
