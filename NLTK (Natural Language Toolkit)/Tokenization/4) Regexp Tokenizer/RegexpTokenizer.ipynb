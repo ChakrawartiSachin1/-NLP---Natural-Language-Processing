{
 "cells": [
  {
   "cell_type": "code",
   "execution_count": 1,
   "metadata": {},
   "outputs": [
    {
     "name": "stdout",
     "output_type": "stream",
     "text": [
      "[' ', ' ', ' ', ' ', ' ', ' ', ' ', ' ', '.']\n"
     ]
    }
   ],
   "source": [
    "from nltk.tokenize import RegexpTokenizer\n",
    "\n",
    "# Sample text data\n",
    "text = \"NLTK is a powerful tool for natural language processing.\"\n",
    "\n",
    "# Define a regular expression pattern to split text based on non-word characters\n",
    "pattern = r'\\W+'\n",
    "\n",
    "# Tokenize the text using RegexpTokenizer\n",
    "tokenizer = RegexpTokenizer(pattern)\n",
    "tokens = tokenizer.tokenize(text)\n",
    "\n",
    "# Print the tokens\n",
    "print(tokens)\n"
   ]
  },
  {
   "cell_type": "code",
   "execution_count": 1,
   "metadata": {},
   "outputs": [
    {
     "name": "stdout",
     "output_type": "stream",
     "text": [
      "[' ', ' ', ' ', ' ', ' ', ' ', ' ', ' ', ' . ', ' ']\n"
     ]
    }
   ],
   "source": [
    "from nltk.tokenize import RegexpTokenizer\n",
    "\n",
    "# Sample text data\n",
    "text = \"NLTK is a powerful tool for natural language processing . for NLP\"\n",
    "\n",
    "# Define a regular expression pattern to split text based on non-word characters\n",
    "pattern = r'\\W+'\n",
    "\n",
    "# Tokenize the text using RegexpTokenizer\n",
    "tokenizer = RegexpTokenizer(pattern)\n",
    "tokens = tokenizer.tokenize(text)\n",
    "\n",
    "# Print the tokens\n",
    "print(tokens)\n"
   ]
  }
 ],
 "metadata": {
  "kernelspec": {
   "display_name": "Python 3",
   "language": "python",
   "name": "python3"
  },
  "language_info": {
   "codemirror_mode": {
    "name": "ipython",
    "version": 3
   },
   "file_extension": ".py",
   "mimetype": "text/x-python",
   "name": "python",
   "nbconvert_exporter": "python",
   "pygments_lexer": "ipython3",
   "version": "3.12.2"
  }
 },
 "nbformat": 4,
 "nbformat_minor": 2
}
